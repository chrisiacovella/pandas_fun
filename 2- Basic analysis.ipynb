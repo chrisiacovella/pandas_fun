{
 "cells": [
  {
   "cell_type": "markdown",
   "metadata": {},
   "source": [
    "# 2- Organizing analysis\n",
    "In general, when doing analysis, it is often frame-by-frame, or case-by-case, where  we'll want to sequentially add to a dataframe."
   ]
  },
  {
   "cell_type": "code",
   "execution_count": 1,
   "metadata": {},
   "outputs": [],
   "source": [
    "import pandas as pd\n",
    "import numpy as np\n",
    "from matplotlib import pyplot as plt"
   ]
  },
  {
   "cell_type": "markdown",
   "metadata": {},
   "source": [
    "Let's generate some data to analyze by calculating an increasing number of random numbers each pass through the loop.   On each loop, we will calculate the mean and standard deviation of the data points which we will save as a dictionary, along with the original array  of random points.  This will be appended to the list ```overall_dict``` which will be convered to a dataframe (```df```). "
   ]
  },
  {
   "cell_type": "code",
   "execution_count": 2,
   "metadata": {},
   "outputs": [],
   "source": [
    "np.random.seed(123)\n",
    "\n",
    "overall = np.array([])\n",
    "\n",
    "#number of random samples to generate at a time\n",
    "num_rand = 10\n",
    "overall_dict = []\n",
    "\n",
    "#generate some data\n",
    "for t in range(1,20):\n",
    "    # create a sequence of normally distributed random points with mean of zero and stdev of 1\n",
    "    a =  np.random.randn(num_rand*t)\n",
    "    \n",
    "    to_df = {'n_samples': t*num_rand, 'mean': a.mean(), 'stdev': a.std(), 'array': a}\n",
    "    overall_dict.append(to_df)\n",
    "\n",
    "df = pd.DataFrame(data=overall_dict)"
   ]
  },
  {
   "cell_type": "code",
   "execution_count": 3,
   "metadata": {},
   "outputs": [
    {
     "data": {
      "text/html": [
       "<div>\n",
       "<style scoped>\n",
       "    .dataframe tbody tr th:only-of-type {\n",
       "        vertical-align: middle;\n",
       "    }\n",
       "\n",
       "    .dataframe tbody tr th {\n",
       "        vertical-align: top;\n",
       "    }\n",
       "\n",
       "    .dataframe thead th {\n",
       "        text-align: right;\n",
       "    }\n",
       "</style>\n",
       "<table border=\"1\" class=\"dataframe\">\n",
       "  <thead>\n",
       "    <tr style=\"text-align: right;\">\n",
       "      <th></th>\n",
       "      <th>n_samples</th>\n",
       "      <th>mean</th>\n",
       "      <th>stdev</th>\n",
       "      <th>array</th>\n",
       "    </tr>\n",
       "  </thead>\n",
       "  <tbody>\n",
       "    <tr>\n",
       "      <th>0</th>\n",
       "      <td>10</td>\n",
       "      <td>-0.269516</td>\n",
       "      <td>1.236305</td>\n",
       "      <td>[-1.0856306033005612, 0.9973454465835858, 0.28...</td>\n",
       "    </tr>\n",
       "    <tr>\n",
       "      <th>1</th>\n",
       "      <td>20</td>\n",
       "      <td>0.201829</td>\n",
       "      <td>1.097914</td>\n",
       "      <td>[-0.6788861516220543, -0.09470896893689112, 1....</td>\n",
       "    </tr>\n",
       "    <tr>\n",
       "      <th>2</th>\n",
       "      <td>30</td>\n",
       "      <td>0.141485</td>\n",
       "      <td>1.211934</td>\n",
       "      <td>[-0.2556193705305969, -2.7985891054607244, -1....</td>\n",
       "    </tr>\n",
       "    <tr>\n",
       "      <th>3</th>\n",
       "      <td>40</td>\n",
       "      <td>-0.071877</td>\n",
       "      <td>1.019332</td>\n",
       "      <td>[-0.7727087142471915, 0.7948626677932181, 0.31...</td>\n",
       "    </tr>\n",
       "    <tr>\n",
       "      <th>4</th>\n",
       "      <td>50</td>\n",
       "      <td>0.119164</td>\n",
       "      <td>1.007492</td>\n",
       "      <td>[0.6420546892718314, -1.977887931520449, 0.712...</td>\n",
       "    </tr>\n",
       "    <tr>\n",
       "      <th>5</th>\n",
       "      <td>60</td>\n",
       "      <td>-0.099148</td>\n",
       "      <td>0.905821</td>\n",
       "      <td>[0.25381647654962736, 0.2837253557710373, -1.4...</td>\n",
       "    </tr>\n",
       "    <tr>\n",
       "      <th>6</th>\n",
       "      <td>70</td>\n",
       "      <td>-0.089828</td>\n",
       "      <td>0.949395</td>\n",
       "      <td>[0.5795416155732297, 0.5796897791443336, -0.27...</td>\n",
       "    </tr>\n",
       "    <tr>\n",
       "      <th>7</th>\n",
       "      <td>80</td>\n",
       "      <td>-0.163384</td>\n",
       "      <td>0.952591</td>\n",
       "      <td>[-1.2511898734731952, -1.1843273385116637, -1....</td>\n",
       "    </tr>\n",
       "    <tr>\n",
       "      <th>8</th>\n",
       "      <td>90</td>\n",
       "      <td>-0.065171</td>\n",
       "      <td>0.940334</td>\n",
       "      <td>[-0.40141442845701475, 0.6734912780983248, -0....</td>\n",
       "    </tr>\n",
       "    <tr>\n",
       "      <th>9</th>\n",
       "      <td>100</td>\n",
       "      <td>0.036462</td>\n",
       "      <td>1.040743</td>\n",
       "      <td>[0.12938552377648257, -1.2625437427838198, -1....</td>\n",
       "    </tr>\n",
       "    <tr>\n",
       "      <th>10</th>\n",
       "      <td>110</td>\n",
       "      <td>0.071714</td>\n",
       "      <td>0.966894</td>\n",
       "      <td>[-0.06962309872009259, -0.09565274449329955, -...</td>\n",
       "    </tr>\n",
       "    <tr>\n",
       "      <th>11</th>\n",
       "      <td>120</td>\n",
       "      <td>0.017965</td>\n",
       "      <td>1.070861</td>\n",
       "      <td>[-1.2717469495300868, 0.7471284116768413, -0.6...</td>\n",
       "    </tr>\n",
       "    <tr>\n",
       "      <th>12</th>\n",
       "      <td>130</td>\n",
       "      <td>-0.114128</td>\n",
       "      <td>0.969666</td>\n",
       "      <td>[-0.19723636840428496, -2.0420964154954233, -1...</td>\n",
       "    </tr>\n",
       "    <tr>\n",
       "      <th>13</th>\n",
       "      <td>140</td>\n",
       "      <td>-0.149525</td>\n",
       "      <td>0.900356</td>\n",
       "      <td>[-0.008256514667853591, -0.7993391541971328, -...</td>\n",
       "    </tr>\n",
       "    <tr>\n",
       "      <th>14</th>\n",
       "      <td>150</td>\n",
       "      <td>0.053132</td>\n",
       "      <td>1.017745</td>\n",
       "      <td>[-1.0106170360719506, 0.24526537489646627, 0.3...</td>\n",
       "    </tr>\n",
       "    <tr>\n",
       "      <th>15</th>\n",
       "      <td>160</td>\n",
       "      <td>0.022301</td>\n",
       "      <td>0.865616</td>\n",
       "      <td>[1.1117017451038067, 0.18095714574188698, 1.33...</td>\n",
       "    </tr>\n",
       "    <tr>\n",
       "      <th>16</th>\n",
       "      <td>170</td>\n",
       "      <td>0.088374</td>\n",
       "      <td>0.899947</td>\n",
       "      <td>[-0.45496319041455213, -0.7962460588279633, -0...</td>\n",
       "    </tr>\n",
       "    <tr>\n",
       "      <th>17</th>\n",
       "      <td>180</td>\n",
       "      <td>-0.063592</td>\n",
       "      <td>1.075525</td>\n",
       "      <td>[0.9102996644453665, 0.6716730776826834, 0.519...</td>\n",
       "    </tr>\n",
       "    <tr>\n",
       "      <th>18</th>\n",
       "      <td>190</td>\n",
       "      <td>-0.048474</td>\n",
       "      <td>0.937289</td>\n",
       "      <td>[-0.17718978019187487, -0.1623065330357974, -0...</td>\n",
       "    </tr>\n",
       "  </tbody>\n",
       "</table>\n",
       "</div>"
      ],
      "text/plain": [
       "    n_samples      mean     stdev   \n",
       "0          10 -0.269516  1.236305  \\\n",
       "1          20  0.201829  1.097914   \n",
       "2          30  0.141485  1.211934   \n",
       "3          40 -0.071877  1.019332   \n",
       "4          50  0.119164  1.007492   \n",
       "5          60 -0.099148  0.905821   \n",
       "6          70 -0.089828  0.949395   \n",
       "7          80 -0.163384  0.952591   \n",
       "8          90 -0.065171  0.940334   \n",
       "9         100  0.036462  1.040743   \n",
       "10        110  0.071714  0.966894   \n",
       "11        120  0.017965  1.070861   \n",
       "12        130 -0.114128  0.969666   \n",
       "13        140 -0.149525  0.900356   \n",
       "14        150  0.053132  1.017745   \n",
       "15        160  0.022301  0.865616   \n",
       "16        170  0.088374  0.899947   \n",
       "17        180 -0.063592  1.075525   \n",
       "18        190 -0.048474  0.937289   \n",
       "\n",
       "                                                array  \n",
       "0   [-1.0856306033005612, 0.9973454465835858, 0.28...  \n",
       "1   [-0.6788861516220543, -0.09470896893689112, 1....  \n",
       "2   [-0.2556193705305969, -2.7985891054607244, -1....  \n",
       "3   [-0.7727087142471915, 0.7948626677932181, 0.31...  \n",
       "4   [0.6420546892718314, -1.977887931520449, 0.712...  \n",
       "5   [0.25381647654962736, 0.2837253557710373, -1.4...  \n",
       "6   [0.5795416155732297, 0.5796897791443336, -0.27...  \n",
       "7   [-1.2511898734731952, -1.1843273385116637, -1....  \n",
       "8   [-0.40141442845701475, 0.6734912780983248, -0....  \n",
       "9   [0.12938552377648257, -1.2625437427838198, -1....  \n",
       "10  [-0.06962309872009259, -0.09565274449329955, -...  \n",
       "11  [-1.2717469495300868, 0.7471284116768413, -0.6...  \n",
       "12  [-0.19723636840428496, -2.0420964154954233, -1...  \n",
       "13  [-0.008256514667853591, -0.7993391541971328, -...  \n",
       "14  [-1.0106170360719506, 0.24526537489646627, 0.3...  \n",
       "15  [1.1117017451038067, 0.18095714574188698, 1.33...  \n",
       "16  [-0.45496319041455213, -0.7962460588279633, -0...  \n",
       "17  [0.9102996644453665, 0.6716730776826834, 0.519...  \n",
       "18  [-0.17718978019187487, -0.1623065330357974, -0...  "
      ]
     },
     "execution_count": 3,
     "metadata": {},
     "output_type": "execute_result"
    }
   ],
   "source": [
    "df"
   ]
  },
  {
   "cell_type": "markdown",
   "metadata": {},
   "source": [
    "Again, ```info``` can give us a quick overview."
   ]
  },
  {
   "cell_type": "code",
   "execution_count": 4,
   "metadata": {},
   "outputs": [
    {
     "name": "stdout",
     "output_type": "stream",
     "text": [
      "<class 'pandas.core.frame.DataFrame'>\n",
      "RangeIndex: 19 entries, 0 to 18\n",
      "Data columns (total 4 columns):\n",
      " #   Column     Non-Null Count  Dtype  \n",
      "---  ------     --------------  -----  \n",
      " 0   n_samples  19 non-null     int64  \n",
      " 1   mean       19 non-null     float64\n",
      " 2   stdev      19 non-null     float64\n",
      " 3   array      19 non-null     object \n",
      "dtypes: float64(2), int64(1), object(1)\n",
      "memory usage: 736.0+ bytes\n"
     ]
    }
   ],
   "source": [
    "df.info()"
   ]
  },
  {
   "cell_type": "markdown",
   "metadata": {},
   "source": [
    "As before we can easily examine this data. This returns a series (1-d data)."
   ]
  },
  {
   "cell_type": "code",
   "execution_count": 5,
   "metadata": {},
   "outputs": [
    {
     "data": {
      "text/plain": [
       "0    -0.269516\n",
       "1     0.201829\n",
       "2     0.141485\n",
       "3    -0.071877\n",
       "4     0.119164\n",
       "5    -0.099148\n",
       "6    -0.089828\n",
       "7    -0.163384\n",
       "8    -0.065171\n",
       "9     0.036462\n",
       "10    0.071714\n",
       "11    0.017965\n",
       "12   -0.114128\n",
       "13   -0.149525\n",
       "14    0.053132\n",
       "15    0.022301\n",
       "16    0.088374\n",
       "17   -0.063592\n",
       "18   -0.048474\n",
       "Name: mean, dtype: float64"
      ]
     },
     "execution_count": 5,
     "metadata": {},
     "output_type": "execute_result"
    }
   ],
   "source": [
    "df['mean']"
   ]
  },
  {
   "cell_type": "markdown",
   "metadata": {},
   "source": [
    "Since we saved the array, we can easily recalculate the mean for each row, which is identical to what we have saved in the ```mean``` column of the df. "
   ]
  },
  {
   "cell_type": "code",
   "execution_count": 6,
   "metadata": {},
   "outputs": [
    {
     "name": "stdout",
     "output_type": "stream",
     "text": [
      "-0.26951611032632805 -0.26951611032632805\n",
      "0.20182901160596964 0.20182901160596964\n",
      "0.14148524871966553 0.14148524871966553\n",
      "-0.07187673103525263 -0.07187673103525263\n",
      "0.11916383560086181 0.11916383560086181\n",
      "-0.09914770146868501 -0.09914770146868501\n",
      "-0.08982844515135496 -0.08982844515135496\n",
      "-0.1633835491349654 -0.1633835491349654\n",
      "-0.06517139762540937 -0.06517139762540937\n",
      "0.03646207561621033 0.03646207561621033\n",
      "0.07171414400268049 0.07171414400268049\n",
      "0.017965032812876883 0.017965032812876883\n",
      "-0.1141280405173572 -0.1141280405173572\n",
      "-0.14952543318358122 -0.14952543318358122\n",
      "0.05313217663796115 0.05313217663796115\n",
      "0.02230137885516832 0.02230137885516832\n",
      "0.0883742240784683 0.0883742240784683\n",
      "-0.0635919029020288 -0.0635919029020288\n",
      "-0.04847358295861706 -0.04847358295861706\n"
     ]
    }
   ],
   "source": [
    "for i, entry in enumerate(df['array']):\n",
    "    print(entry.mean(), df['mean'][i])"
   ]
  },
  {
   "cell_type": "markdown",
   "metadata": {},
   "source": [
    "We can do lots of indexing here as well, e.g., looking at the first 10 data points in the 10th entry. "
   ]
  },
  {
   "cell_type": "code",
   "execution_count": 7,
   "metadata": {},
   "outputs": [
    {
     "name": "stdout",
     "output_type": "stream",
     "text": [
      "-0.05053216047999394\n"
     ]
    }
   ],
   "source": [
    "print(df['array'][9][0:10].mean())"
   ]
  },
  {
   "cell_type": "markdown",
   "metadata": {},
   "source": [
    "We can easily extract the data for plotting."
   ]
  },
  {
   "cell_type": "code",
   "execution_count": 8,
   "metadata": {},
   "outputs": [
    {
     "data": {
      "text/plain": [
       "[<matplotlib.lines.Line2D at 0x1329e8310>]"
      ]
     },
     "execution_count": 8,
     "metadata": {},
     "output_type": "execute_result"
    },
    {
     "data": {
      "image/png": "[encoded data removed]",
      "text/plain": [
       "<Figure size 640x480 with 1 Axes>"
      ]
     },
     "metadata": {},
     "output_type": "display_data"
    }
   ],
   "source": [
    "mean_values = df['mean']\n",
    "num_samples = df['n_samples']\n",
    "plt.plot(num_samples, mean_values)"
   ]
  },
  {
   "cell_type": "markdown",
   "metadata": {},
   "source": [
    "This dataframe can be trivially saved to a csv file, as we saw in the last example."
   ]
  },
  {
   "cell_type": "code",
   "execution_count": 9,
   "metadata": {},
   "outputs": [],
   "source": [
    "df.to_csv('test_data.csv', columns=['n_samples', 'mean',\n",
    "                                        'stdev', 'array'])"
   ]
  },
  {
   "cell_type": "markdown",
   "metadata": {},
   "source": [
    "We can easily remove information too, by simply excluding ```array``` from the columns we pass; we can also reorder the columns during output. "
   ]
  },
  {
   "cell_type": "code",
   "execution_count": 10,
   "metadata": {},
   "outputs": [],
   "source": [
    "df.to_csv('test_data_trimmed.csv', columns=['n_samples', \n",
    "                                        'stdev', 'mean'])"
   ]
  },
  {
   "cell_type": "markdown",
   "metadata": {},
   "source": [
    "Let us try reading the csv file back in and can easily query it the same way as before."
   ]
  },
  {
   "cell_type": "code",
   "execution_count": 11,
   "metadata": {},
   "outputs": [],
   "source": [
    "df_in = pd.read_csv('test_data_trimmed.csv',index_col=0)"
   ]
  },
  {
   "cell_type": "code",
   "execution_count": 12,
   "metadata": {},
   "outputs": [
    {
     "data": {
      "text/html": [
       "<div>\n",
       "<style scoped>\n",
       "    .dataframe tbody tr th:only-of-type {\n",
       "        vertical-align: middle;\n",
       "    }\n",
       "\n",
       "    .dataframe tbody tr th {\n",
       "        vertical-align: top;\n",
       "    }\n",
       "\n",
       "    .dataframe thead th {\n",
       "        text-align: right;\n",
       "    }\n",
       "</style>\n",
       "<table border=\"1\" class=\"dataframe\">\n",
       "  <thead>\n",
       "    <tr style=\"text-align: right;\">\n",
       "      <th></th>\n",
       "      <th>n_samples</th>\n",
       "      <th>stdev</th>\n",
       "      <th>mean</th>\n",
       "    </tr>\n",
       "  </thead>\n",
       "  <tbody>\n",
       "    <tr>\n",
       "      <th>0</th>\n",
       "      <td>10</td>\n",
       "      <td>1.236305</td>\n",
       "      <td>-0.269516</td>\n",
       "    </tr>\n",
       "    <tr>\n",
       "      <th>1</th>\n",
       "      <td>20</td>\n",
       "      <td>1.097914</td>\n",
       "      <td>0.201829</td>\n",
       "    </tr>\n",
       "    <tr>\n",
       "      <th>2</th>\n",
       "      <td>30</td>\n",
       "      <td>1.211934</td>\n",
       "      <td>0.141485</td>\n",
       "    </tr>\n",
       "    <tr>\n",
       "      <th>3</th>\n",
       "      <td>40</td>\n",
       "      <td>1.019332</td>\n",
       "      <td>-0.071877</td>\n",
       "    </tr>\n",
       "    <tr>\n",
       "      <th>4</th>\n",
       "      <td>50</td>\n",
       "      <td>1.007492</td>\n",
       "      <td>0.119164</td>\n",
       "    </tr>\n",
       "    <tr>\n",
       "      <th>5</th>\n",
       "      <td>60</td>\n",
       "      <td>0.905821</td>\n",
       "      <td>-0.099148</td>\n",
       "    </tr>\n",
       "    <tr>\n",
       "      <th>6</th>\n",
       "      <td>70</td>\n",
       "      <td>0.949395</td>\n",
       "      <td>-0.089828</td>\n",
       "    </tr>\n",
       "    <tr>\n",
       "      <th>7</th>\n",
       "      <td>80</td>\n",
       "      <td>0.952591</td>\n",
       "      <td>-0.163384</td>\n",
       "    </tr>\n",
       "    <tr>\n",
       "      <th>8</th>\n",
       "      <td>90</td>\n",
       "      <td>0.940334</td>\n",
       "      <td>-0.065171</td>\n",
       "    </tr>\n",
       "    <tr>\n",
       "      <th>9</th>\n",
       "      <td>100</td>\n",
       "      <td>1.040743</td>\n",
       "      <td>0.036462</td>\n",
       "    </tr>\n",
       "    <tr>\n",
       "      <th>10</th>\n",
       "      <td>110</td>\n",
       "      <td>0.966894</td>\n",
       "      <td>0.071714</td>\n",
       "    </tr>\n",
       "    <tr>\n",
       "      <th>11</th>\n",
       "      <td>120</td>\n",
       "      <td>1.070861</td>\n",
       "      <td>0.017965</td>\n",
       "    </tr>\n",
       "    <tr>\n",
       "      <th>12</th>\n",
       "      <td>130</td>\n",
       "      <td>0.969666</td>\n",
       "      <td>-0.114128</td>\n",
       "    </tr>\n",
       "    <tr>\n",
       "      <th>13</th>\n",
       "      <td>140</td>\n",
       "      <td>0.900356</td>\n",
       "      <td>-0.149525</td>\n",
       "    </tr>\n",
       "    <tr>\n",
       "      <th>14</th>\n",
       "      <td>150</td>\n",
       "      <td>1.017745</td>\n",
       "      <td>0.053132</td>\n",
       "    </tr>\n",
       "    <tr>\n",
       "      <th>15</th>\n",
       "      <td>160</td>\n",
       "      <td>0.865616</td>\n",
       "      <td>0.022301</td>\n",
       "    </tr>\n",
       "    <tr>\n",
       "      <th>16</th>\n",
       "      <td>170</td>\n",
       "      <td>0.899947</td>\n",
       "      <td>0.088374</td>\n",
       "    </tr>\n",
       "    <tr>\n",
       "      <th>17</th>\n",
       "      <td>180</td>\n",
       "      <td>1.075525</td>\n",
       "      <td>-0.063592</td>\n",
       "    </tr>\n",
       "    <tr>\n",
       "      <th>18</th>\n",
       "      <td>190</td>\n",
       "      <td>0.937289</td>\n",
       "      <td>-0.048474</td>\n",
       "    </tr>\n",
       "  </tbody>\n",
       "</table>\n",
       "</div>"
      ],
      "text/plain": [
       "    n_samples     stdev      mean\n",
       "0          10  1.236305 -0.269516\n",
       "1          20  1.097914  0.201829\n",
       "2          30  1.211934  0.141485\n",
       "3          40  1.019332 -0.071877\n",
       "4          50  1.007492  0.119164\n",
       "5          60  0.905821 -0.099148\n",
       "6          70  0.949395 -0.089828\n",
       "7          80  0.952591 -0.163384\n",
       "8          90  0.940334 -0.065171\n",
       "9         100  1.040743  0.036462\n",
       "10        110  0.966894  0.071714\n",
       "11        120  1.070861  0.017965\n",
       "12        130  0.969666 -0.114128\n",
       "13        140  0.900356 -0.149525\n",
       "14        150  1.017745  0.053132\n",
       "15        160  0.865616  0.022301\n",
       "16        170  0.899947  0.088374\n",
       "17        180  1.075525 -0.063592\n",
       "18        190  0.937289 -0.048474"
      ]
     },
     "execution_count": 12,
     "metadata": {},
     "output_type": "execute_result"
    }
   ],
   "source": [
    "df_in"
   ]
  },
  {
   "cell_type": "markdown",
   "metadata": {},
   "source": [
    "## Using pandas to manipulate data\n",
    "\n",
    "Pandas provides some very useful functions, including the ability to group data. Let us make some ficticious data for energy measured at different temperatures. In this data series, the same temperatures (1.0, 1.5, and 2.0) are repeated multiple times; this is likely to happen in the real world in that we like to have multiple indpendent replicates at the same statepoint. "
   ]
  },
  {
   "cell_type": "code",
   "execution_count": 13,
   "metadata": {},
   "outputs": [],
   "source": [
    "df = pd.DataFrame({'temp': [1.0, 1.5, 2.0, 1.0, 1.5, 2.0, 1.0, 1.5, 2.0],\n",
    "                    'energy': [129, 523, 1201, 131, 503, 1301, 103, 491, 1132]})"
   ]
  },
  {
   "cell_type": "code",
   "execution_count": 14,
   "metadata": {},
   "outputs": [
    {
     "data": {
      "text/html": [
       "<div>\n",
       "<style scoped>\n",
       "    .dataframe tbody tr th:only-of-type {\n",
       "        vertical-align: middle;\n",
       "    }\n",
       "\n",
       "    .dataframe tbody tr th {\n",
       "        vertical-align: top;\n",
       "    }\n",
       "\n",
       "    .dataframe thead th {\n",
       "        text-align: right;\n",
       "    }\n",
       "</style>\n",
       "<table border=\"1\" class=\"dataframe\">\n",
       "  <thead>\n",
       "    <tr style=\"text-align: right;\">\n",
       "      <th></th>\n",
       "      <th>temp</th>\n",
       "      <th>energy</th>\n",
       "    </tr>\n",
       "  </thead>\n",
       "  <tbody>\n",
       "    <tr>\n",
       "      <th>0</th>\n",
       "      <td>1.0</td>\n",
       "      <td>129</td>\n",
       "    </tr>\n",
       "    <tr>\n",
       "      <th>1</th>\n",
       "      <td>1.5</td>\n",
       "      <td>523</td>\n",
       "    </tr>\n",
       "    <tr>\n",
       "      <th>2</th>\n",
       "      <td>2.0</td>\n",
       "      <td>1201</td>\n",
       "    </tr>\n",
       "    <tr>\n",
       "      <th>3</th>\n",
       "      <td>1.0</td>\n",
       "      <td>131</td>\n",
       "    </tr>\n",
       "    <tr>\n",
       "      <th>4</th>\n",
       "      <td>1.5</td>\n",
       "      <td>503</td>\n",
       "    </tr>\n",
       "    <tr>\n",
       "      <th>5</th>\n",
       "      <td>2.0</td>\n",
       "      <td>1301</td>\n",
       "    </tr>\n",
       "    <tr>\n",
       "      <th>6</th>\n",
       "      <td>1.0</td>\n",
       "      <td>103</td>\n",
       "    </tr>\n",
       "    <tr>\n",
       "      <th>7</th>\n",
       "      <td>1.5</td>\n",
       "      <td>491</td>\n",
       "    </tr>\n",
       "    <tr>\n",
       "      <th>8</th>\n",
       "      <td>2.0</td>\n",
       "      <td>1132</td>\n",
       "    </tr>\n",
       "  </tbody>\n",
       "</table>\n",
       "</div>"
      ],
      "text/plain": [
       "   temp  energy\n",
       "0   1.0     129\n",
       "1   1.5     523\n",
       "2   2.0    1201\n",
       "3   1.0     131\n",
       "4   1.5     503\n",
       "5   2.0    1301\n",
       "6   1.0     103\n",
       "7   1.5     491\n",
       "8   2.0    1132"
      ]
     },
     "execution_count": 14,
     "metadata": {},
     "output_type": "execute_result"
    }
   ],
   "source": [
    "df"
   ]
  },
  {
   "cell_type": "markdown",
   "metadata": {},
   "source": [
    "We can use the ```groupby``` function to have pandas report the mean for each temperature without having to actually write any loops to sort the data. "
   ]
  },
  {
   "cell_type": "code",
   "execution_count": 15,
   "metadata": {},
   "outputs": [
    {
     "data": {
      "text/html": [
       "<div>\n",
       "<style scoped>\n",
       "    .dataframe tbody tr th:only-of-type {\n",
       "        vertical-align: middle;\n",
       "    }\n",
       "\n",
       "    .dataframe tbody tr th {\n",
       "        vertical-align: top;\n",
       "    }\n",
       "\n",
       "    .dataframe thead th {\n",
       "        text-align: right;\n",
       "    }\n",
       "</style>\n",
       "<table border=\"1\" class=\"dataframe\">\n",
       "  <thead>\n",
       "    <tr style=\"text-align: right;\">\n",
       "      <th></th>\n",
       "      <th>energy</th>\n",
       "    </tr>\n",
       "    <tr>\n",
       "      <th>temp</th>\n",
       "      <th></th>\n",
       "    </tr>\n",
       "  </thead>\n",
       "  <tbody>\n",
       "    <tr>\n",
       "      <th>1.0</th>\n",
       "      <td>121.000000</td>\n",
       "    </tr>\n",
       "    <tr>\n",
       "      <th>1.5</th>\n",
       "      <td>505.666667</td>\n",
       "    </tr>\n",
       "    <tr>\n",
       "      <th>2.0</th>\n",
       "      <td>1211.333333</td>\n",
       "    </tr>\n",
       "  </tbody>\n",
       "</table>\n",
       "</div>"
      ],
      "text/plain": [
       "           energy\n",
       "temp             \n",
       "1.0    121.000000\n",
       "1.5    505.666667\n",
       "2.0   1211.333333"
      ]
     },
     "execution_count": 15,
     "metadata": {},
     "output_type": "execute_result"
    }
   ],
   "source": [
    "df_mean = df.groupby('temp').mean()\n",
    "df_mean"
   ]
  },
  {
   "cell_type": "code",
   "execution_count": null,
   "metadata": {},
   "outputs": [],
   "source": []
  },
  {
   "cell_type": "markdown",
   "metadata": {},
   "source": [
    "The ```value_counts``` function gives us details about the groups."
   ]
  },
  {
   "cell_type": "code",
   "execution_count": 16,
   "metadata": {},
   "outputs": [
    {
     "data": {
      "text/plain": [
       "temp  energy\n",
       "1.0   103       1\n",
       "      129       1\n",
       "      131       1\n",
       "1.5   491       1\n",
       "      503       1\n",
       "      523       1\n",
       "2.0   1132      1\n",
       "      1201      1\n",
       "      1301      1\n",
       "Name: count, dtype: int64"
      ]
     },
     "execution_count": 16,
     "metadata": {},
     "output_type": "execute_result"
    }
   ],
   "source": [
    "df.groupby('temp').value_counts()"
   ]
  },
  {
   "cell_type": "markdown",
   "metadata": {},
   "source": [
    "Just for fun, we could make a pie chart; it's not very exciting because we have equal amounts of each temperature. "
   ]
  },
  {
   "cell_type": "code",
   "execution_count": 17,
   "metadata": {},
   "outputs": [
    {
     "data": {
      "text/plain": [
       "<AxesSubplot: ylabel='count'>"
      ]
     },
     "execution_count": 17,
     "metadata": {},
     "output_type": "execute_result"
    },
    {
     "data": {
      "image/png": "[encoded data removed]",
      "text/plain": [
       "<Figure size 640x480 with 1 Axes>"
      ]
     },
     "metadata": {},
     "output_type": "display_data"
    }
   ],
   "source": [
    "df['temp'].value_counts().plot(kind='pie')"
   ]
  },
  {
   "cell_type": "markdown",
   "metadata": {},
   "source": [
    "We can rename the energy colmumn to reflect that it is now the mean, simply by passing a dictionary where the key is the old name and the value is the new name."
   ]
  },
  {
   "cell_type": "code",
   "execution_count": 18,
   "metadata": {},
   "outputs": [
    {
     "data": {
      "text/html": [
       "<div>\n",
       "<style scoped>\n",
       "    .dataframe tbody tr th:only-of-type {\n",
       "        vertical-align: middle;\n",
       "    }\n",
       "\n",
       "    .dataframe tbody tr th {\n",
       "        vertical-align: top;\n",
       "    }\n",
       "\n",
       "    .dataframe thead th {\n",
       "        text-align: right;\n",
       "    }\n",
       "</style>\n",
       "<table border=\"1\" class=\"dataframe\">\n",
       "  <thead>\n",
       "    <tr style=\"text-align: right;\">\n",
       "      <th></th>\n",
       "      <th>energy_mean</th>\n",
       "    </tr>\n",
       "    <tr>\n",
       "      <th>temp</th>\n",
       "      <th></th>\n",
       "    </tr>\n",
       "  </thead>\n",
       "  <tbody>\n",
       "    <tr>\n",
       "      <th>1.0</th>\n",
       "      <td>121.000000</td>\n",
       "    </tr>\n",
       "    <tr>\n",
       "      <th>1.5</th>\n",
       "      <td>505.666667</td>\n",
       "    </tr>\n",
       "    <tr>\n",
       "      <th>2.0</th>\n",
       "      <td>1211.333333</td>\n",
       "    </tr>\n",
       "  </tbody>\n",
       "</table>\n",
       "</div>"
      ],
      "text/plain": [
       "      energy_mean\n",
       "temp             \n",
       "1.0    121.000000\n",
       "1.5    505.666667\n",
       "2.0   1211.333333"
      ]
     },
     "execution_count": 18,
     "metadata": {},
     "output_type": "execute_result"
    }
   ],
   "source": [
    "df_mean = df_mean.rename(columns={'energy': 'energy_mean'})\n",
    "df_mean"
   ]
  },
  {
   "cell_type": "markdown",
   "metadata": {},
   "source": [
    "We can use the ```size``` function to see the size of each group that was found (note, this returns a series, not a dataframe."
   ]
  },
  {
   "cell_type": "code",
   "execution_count": 19,
   "metadata": {},
   "outputs": [
    {
     "data": {
      "text/plain": [
       "temp\n",
       "1.0    3\n",
       "1.5    3\n",
       "2.0    3\n",
       "dtype: int64"
      ]
     },
     "execution_count": 19,
     "metadata": {},
     "output_type": "execute_result"
    }
   ],
   "source": [
    "df.groupby('temp').size()"
   ]
  },
  {
   "cell_type": "markdown",
   "metadata": {},
   "source": [
    "An alternative syntax to selectively get the same basic info, similar to what was shown in the prior tutorial."
   ]
  },
  {
   "cell_type": "code",
   "execution_count": 20,
   "metadata": {},
   "outputs": [
    {
     "data": {
      "text/plain": [
       "121.0"
      ]
     },
     "execution_count": 20,
     "metadata": {},
     "output_type": "execute_result"
    }
   ],
   "source": [
    "df.loc[df['temp'] == 1.0, 'energy'].mean()"
   ]
  },
  {
   "cell_type": "markdown",
   "metadata": {},
   "source": [
    "We can use the same procedure to calculate the standard deviation of the mean and rename the column."
   ]
  },
  {
   "cell_type": "code",
   "execution_count": 21,
   "metadata": {},
   "outputs": [],
   "source": [
    "df_std = df.groupby('temp').std().rename(columns={'energy': 'energy_std'})"
   ]
  },
  {
   "cell_type": "markdown",
   "metadata": {},
   "source": [
    "### Merging dataframes\n",
    "We can then merge these two dataframes together using the ```join``` command.  The ```join``` command in a dataframe takes as input a series.  Note in the example below, df_mean remains unchanged after calling ```join``` and instead returns a new dataframe. "
   ]
  },
  {
   "cell_type": "code",
   "execution_count": 22,
   "metadata": {},
   "outputs": [
    {
     "data": {
      "text/html": [
       "<div>\n",
       "<style scoped>\n",
       "    .dataframe tbody tr th:only-of-type {\n",
       "        vertical-align: middle;\n",
       "    }\n",
       "\n",
       "    .dataframe tbody tr th {\n",
       "        vertical-align: top;\n",
       "    }\n",
       "\n",
       "    .dataframe thead th {\n",
       "        text-align: right;\n",
       "    }\n",
       "</style>\n",
       "<table border=\"1\" class=\"dataframe\">\n",
       "  <thead>\n",
       "    <tr style=\"text-align: right;\">\n",
       "      <th></th>\n",
       "      <th>energy_mean</th>\n",
       "      <th>energy_std</th>\n",
       "    </tr>\n",
       "    <tr>\n",
       "      <th>temp</th>\n",
       "      <th></th>\n",
       "      <th></th>\n",
       "    </tr>\n",
       "  </thead>\n",
       "  <tbody>\n",
       "    <tr>\n",
       "      <th>1.0</th>\n",
       "      <td>121.000000</td>\n",
       "      <td>15.620499</td>\n",
       "    </tr>\n",
       "    <tr>\n",
       "      <th>1.5</th>\n",
       "      <td>505.666667</td>\n",
       "      <td>16.165808</td>\n",
       "    </tr>\n",
       "    <tr>\n",
       "      <th>2.0</th>\n",
       "      <td>1211.333333</td>\n",
       "      <td>84.972545</td>\n",
       "    </tr>\n",
       "  </tbody>\n",
       "</table>\n",
       "</div>"
      ],
      "text/plain": [
       "      energy_mean  energy_std\n",
       "temp                         \n",
       "1.0    121.000000   15.620499\n",
       "1.5    505.666667   16.165808\n",
       "2.0   1211.333333   84.972545"
      ]
     },
     "execution_count": 22,
     "metadata": {},
     "output_type": "execute_result"
    }
   ],
   "source": [
    "df_new = df_mean.join(df_std['energy_std'])\n",
    "df_new"
   ]
  },
  {
   "cell_type": "markdown",
   "metadata": {},
   "source": [
    "And just for fun we can take all these functions and put them into a single line that is rather challenging to read. "
   ]
  },
  {
   "cell_type": "code",
   "execution_count": 23,
   "metadata": {},
   "outputs": [],
   "source": [
    "df_new2 = df.groupby('temp').mean().rename(columns={'energy': 'energy_mean'}).join(df.groupby('temp').std().rename(columns={'energy': 'energy_std'})['energy_std'])"
   ]
  },
  {
   "cell_type": "code",
   "execution_count": 24,
   "metadata": {},
   "outputs": [
    {
     "data": {
      "text/html": [
       "<div>\n",
       "<style scoped>\n",
       "    .dataframe tbody tr th:only-of-type {\n",
       "        vertical-align: middle;\n",
       "    }\n",
       "\n",
       "    .dataframe tbody tr th {\n",
       "        vertical-align: top;\n",
       "    }\n",
       "\n",
       "    .dataframe thead th {\n",
       "        text-align: right;\n",
       "    }\n",
       "</style>\n",
       "<table border=\"1\" class=\"dataframe\">\n",
       "  <thead>\n",
       "    <tr style=\"text-align: right;\">\n",
       "      <th></th>\n",
       "      <th>energy_mean</th>\n",
       "      <th>energy_std</th>\n",
       "    </tr>\n",
       "    <tr>\n",
       "      <th>temp</th>\n",
       "      <th></th>\n",
       "      <th></th>\n",
       "    </tr>\n",
       "  </thead>\n",
       "  <tbody>\n",
       "    <tr>\n",
       "      <th>1.0</th>\n",
       "      <td>121.000000</td>\n",
       "      <td>15.620499</td>\n",
       "    </tr>\n",
       "    <tr>\n",
       "      <th>1.5</th>\n",
       "      <td>505.666667</td>\n",
       "      <td>16.165808</td>\n",
       "    </tr>\n",
       "    <tr>\n",
       "      <th>2.0</th>\n",
       "      <td>1211.333333</td>\n",
       "      <td>84.972545</td>\n",
       "    </tr>\n",
       "  </tbody>\n",
       "</table>\n",
       "</div>"
      ],
      "text/plain": [
       "      energy_mean  energy_std\n",
       "temp                         \n",
       "1.0    121.000000   15.620499\n",
       "1.5    505.666667   16.165808\n",
       "2.0   1211.333333   84.972545"
      ]
     },
     "execution_count": 24,
     "metadata": {},
     "output_type": "execute_result"
    }
   ],
   "source": [
    "df_new2"
   ]
  },
  {
   "cell_type": "markdown",
   "metadata": {},
   "source": [
    "We can easily add in columns that are operations on the data.  For example, creating a column for the square of the mean energy."
   ]
  },
  {
   "cell_type": "code",
   "execution_count": 25,
   "metadata": {},
   "outputs": [],
   "source": [
    "df_new2['e_sq'] = df_new2['energy_mean']*df_new2['energy_mean']"
   ]
  },
  {
   "cell_type": "code",
   "execution_count": 26,
   "metadata": {},
   "outputs": [
    {
     "data": {
      "text/html": [
       "<div>\n",
       "<style scoped>\n",
       "    .dataframe tbody tr th:only-of-type {\n",
       "        vertical-align: middle;\n",
       "    }\n",
       "\n",
       "    .dataframe tbody tr th {\n",
       "        vertical-align: top;\n",
       "    }\n",
       "\n",
       "    .dataframe thead th {\n",
       "        text-align: right;\n",
       "    }\n",
       "</style>\n",
       "<table border=\"1\" class=\"dataframe\">\n",
       "  <thead>\n",
       "    <tr style=\"text-align: right;\">\n",
       "      <th></th>\n",
       "      <th>energy_mean</th>\n",
       "      <th>energy_std</th>\n",
       "      <th>e_sq</th>\n",
       "    </tr>\n",
       "    <tr>\n",
       "      <th>temp</th>\n",
       "      <th></th>\n",
       "      <th></th>\n",
       "      <th></th>\n",
       "    </tr>\n",
       "  </thead>\n",
       "  <tbody>\n",
       "    <tr>\n",
       "      <th>1.0</th>\n",
       "      <td>121.000000</td>\n",
       "      <td>15.620499</td>\n",
       "      <td>1.464100e+04</td>\n",
       "    </tr>\n",
       "    <tr>\n",
       "      <th>1.5</th>\n",
       "      <td>505.666667</td>\n",
       "      <td>16.165808</td>\n",
       "      <td>2.556988e+05</td>\n",
       "    </tr>\n",
       "    <tr>\n",
       "      <th>2.0</th>\n",
       "      <td>1211.333333</td>\n",
       "      <td>84.972545</td>\n",
       "      <td>1.467328e+06</td>\n",
       "    </tr>\n",
       "  </tbody>\n",
       "</table>\n",
       "</div>"
      ],
      "text/plain": [
       "      energy_mean  energy_std          e_sq\n",
       "temp                                       \n",
       "1.0    121.000000   15.620499  1.464100e+04\n",
       "1.5    505.666667   16.165808  2.556988e+05\n",
       "2.0   1211.333333   84.972545  1.467328e+06"
      ]
     },
     "execution_count": 26,
     "metadata": {},
     "output_type": "execute_result"
    }
   ],
   "source": [
    "df_new2"
   ]
  },
  {
   "cell_type": "markdown",
   "metadata": {},
   "source": [
    "Or other math operations"
   ]
  },
  {
   "cell_type": "code",
   "execution_count": 27,
   "metadata": {},
   "outputs": [
    {
     "data": {
      "text/html": [
       "<div>\n",
       "<style scoped>\n",
       "    .dataframe tbody tr th:only-of-type {\n",
       "        vertical-align: middle;\n",
       "    }\n",
       "\n",
       "    .dataframe tbody tr th {\n",
       "        vertical-align: top;\n",
       "    }\n",
       "\n",
       "    .dataframe thead th {\n",
       "        text-align: right;\n",
       "    }\n",
       "</style>\n",
       "<table border=\"1\" class=\"dataframe\">\n",
       "  <thead>\n",
       "    <tr style=\"text-align: right;\">\n",
       "      <th></th>\n",
       "      <th>energy_mean</th>\n",
       "      <th>energy_std</th>\n",
       "      <th>e_sq</th>\n",
       "      <th>e/2</th>\n",
       "    </tr>\n",
       "    <tr>\n",
       "      <th>temp</th>\n",
       "      <th></th>\n",
       "      <th></th>\n",
       "      <th></th>\n",
       "      <th></th>\n",
       "    </tr>\n",
       "  </thead>\n",
       "  <tbody>\n",
       "    <tr>\n",
       "      <th>1.0</th>\n",
       "      <td>121.000000</td>\n",
       "      <td>15.620499</td>\n",
       "      <td>2.196150e+04</td>\n",
       "      <td>60.500000</td>\n",
       "    </tr>\n",
       "    <tr>\n",
       "      <th>1.5</th>\n",
       "      <td>505.666667</td>\n",
       "      <td>16.165808</td>\n",
       "      <td>3.835482e+05</td>\n",
       "      <td>252.833333</td>\n",
       "    </tr>\n",
       "    <tr>\n",
       "      <th>2.0</th>\n",
       "      <td>1211.333333</td>\n",
       "      <td>84.972545</td>\n",
       "      <td>2.200993e+06</td>\n",
       "      <td>605.666667</td>\n",
       "    </tr>\n",
       "  </tbody>\n",
       "</table>\n",
       "</div>"
      ],
      "text/plain": [
       "      energy_mean  energy_std          e_sq         e/2\n",
       "temp                                                   \n",
       "1.0    121.000000   15.620499  2.196150e+04   60.500000\n",
       "1.5    505.666667   16.165808  3.835482e+05  252.833333\n",
       "2.0   1211.333333   84.972545  2.200993e+06  605.666667"
      ]
     },
     "execution_count": 27,
     "metadata": {},
     "output_type": "execute_result"
    }
   ],
   "source": [
    "df_new2['e/2'] = df_new2['energy_mean']/2\n",
    "df_new2['e_sq'] *=1.5\n",
    "df_new2"
   ]
  },
  {
   "cell_type": "code",
   "execution_count": null,
   "metadata": {},
   "outputs": [],
   "source": []
  },
  {
   "cell_type": "code",
   "execution_count": null,
   "metadata": {},
   "outputs": [],
   "source": []
  }
 ],
 "metadata": {
  "kernelspec": {
   "display_name": "Python 3 (ipykernel)",
   "language": "python",
   "name": "python3"
  },
  "language_info": {
   "codemirror_mode": {
    "name": "ipython",
    "version": 3
   },
   "file_extension": ".py",
   "mimetype": "text/x-python",
   "name": "python",
   "nbconvert_exporter": "python",
   "pygments_lexer": "ipython3",
   "version": "3.9.15"
  }
 },
 "nbformat": 4,
 "nbformat_minor": 4
}
