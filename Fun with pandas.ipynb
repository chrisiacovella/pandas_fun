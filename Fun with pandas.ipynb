{
 "cells": [
  {
   "cell_type": "code",
   "execution_count": 1,
   "metadata": {},
   "outputs": [],
   "source": [
    "import pandas as pd\n",
    "import matplotlib.pyplot as plt\n",
    "import numpy as np\n",
    "from scipy.optimize import curve_fit"
   ]
  },
  {
   "cell_type": "markdown",
   "metadata": {},
   "source": [
    "Let us define some data as a simple dictionary and then convert it to a pandas dataframe"
   ]
  },
  {
   "cell_type": "code",
   "execution_count": 2,
   "metadata": {},
   "outputs": [],
   "source": [
    "data_dict = { \n",
    "\t'run1': [360, 0.91, 20.1],\n",
    "\t'run2': [305, 0.98, 22.0]\n",
    "}"
   ]
  },
  {
   "cell_type": "markdown",
   "metadata": {},
   "source": [
    "We can very trivially convert this to a pandas dataframe.  We can also pass lables via \"index\", to tell us what each of the entries means and allow us to more easily search."
   ]
  },
  {
   "cell_type": "code",
   "execution_count": 3,
   "metadata": {},
   "outputs": [],
   "source": [
    "data_frame = pd.DataFrame(data_dict, index=['T', 'S2', 'angle'])"
   ]
  },
  {
   "cell_type": "markdown",
   "metadata": {},
   "source": [
    "We can easily output this as a nice table"
   ]
  },
  {
   "cell_type": "code",
   "execution_count": 4,
   "metadata": {},
   "outputs": [
    {
     "data": {
      "text/html": [
       "<div>\n",
       "<style scoped>\n",
       "    .dataframe tbody tr th:only-of-type {\n",
       "        vertical-align: middle;\n",
       "    }\n",
       "\n",
       "    .dataframe tbody tr th {\n",
       "        vertical-align: top;\n",
       "    }\n",
       "\n",
       "    .dataframe thead th {\n",
       "        text-align: right;\n",
       "    }\n",
       "</style>\n",
       "<table border=\"1\" class=\"dataframe\">\n",
       "  <thead>\n",
       "    <tr style=\"text-align: right;\">\n",
       "      <th></th>\n",
       "      <th>run1</th>\n",
       "      <th>run2</th>\n",
       "    </tr>\n",
       "  </thead>\n",
       "  <tbody>\n",
       "    <tr>\n",
       "      <th>T</th>\n",
       "      <td>360.00</td>\n",
       "      <td>305.00</td>\n",
       "    </tr>\n",
       "    <tr>\n",
       "      <th>S2</th>\n",
       "      <td>0.91</td>\n",
       "      <td>0.98</td>\n",
       "    </tr>\n",
       "    <tr>\n",
       "      <th>angle</th>\n",
       "      <td>20.10</td>\n",
       "      <td>22.00</td>\n",
       "    </tr>\n",
       "  </tbody>\n",
       "</table>\n",
       "</div>"
      ],
      "text/plain": [
       "         run1    run2\n",
       "T      360.00  305.00\n",
       "S2       0.91    0.98\n",
       "angle   20.10   22.00"
      ]
     },
     "execution_count": 4,
     "metadata": {},
     "output_type": "execute_result"
    }
   ],
   "source": [
    "data_frame"
   ]
  },
  {
   "cell_type": "markdown",
   "metadata": {},
   "source": [
    "If we use the print function it is basically the same, just not quite as nice looking. "
   ]
  },
  {
   "cell_type": "code",
   "execution_count": 5,
   "metadata": {},
   "outputs": [
    {
     "name": "stdout",
     "output_type": "stream",
     "text": [
      "         run1    run2\n",
      "T      360.00  305.00\n",
      "S2       0.91    0.98\n",
      "angle   20.10   22.00\n"
     ]
    }
   ],
   "source": [
    "print(data_frame)"
   ]
  },
  {
   "cell_type": "markdown",
   "metadata": {},
   "source": [
    "Let's look at how to extract info.  To get info for a single entry in the dict, can easily just use the name as an index."
   ]
  },
  {
   "cell_type": "code",
   "execution_count": 6,
   "metadata": {},
   "outputs": [
    {
     "data": {
      "text/plain": [
       "T        360.00\n",
       "S2         0.91\n",
       "angle     20.10\n",
       "Name: run1, dtype: float64"
      ]
     },
     "execution_count": 6,
     "metadata": {},
     "output_type": "execute_result"
    }
   ],
   "source": [
    "data_frame['run1']"
   ]
  },
  {
   "cell_type": "markdown",
   "metadata": {},
   "source": [
    "To get the Temperature info from each of the runs, we access the data a little bit differently, using the \"loc\" command."
   ]
  },
  {
   "cell_type": "code",
   "execution_count": 7,
   "metadata": {},
   "outputs": [
    {
     "data": {
      "text/plain": [
       "run1    360.0\n",
       "run2    305.0\n",
       "Name: T, dtype: float64"
      ]
     },
     "execution_count": 7,
     "metadata": {},
     "output_type": "execute_result"
    }
   ],
   "source": [
    "data_frame.loc['T']"
   ]
  },
  {
   "cell_type": "markdown",
   "metadata": {},
   "source": [
    "These two can be combined to access, e.g., the temperature of run1."
   ]
  },
  {
   "cell_type": "code",
   "execution_count": 8,
   "metadata": {},
   "outputs": [
    {
     "data": {
      "text/plain": [
       "360.0"
      ]
     },
     "execution_count": 8,
     "metadata": {},
     "output_type": "execute_result"
    }
   ],
   "source": [
    "data_frame['run1'].loc['T']"
   ]
  },
  {
   "cell_type": "markdown",
   "metadata": {},
   "source": [
    "Alternatively, since T is the first entry, can access it just using an integer index of 0, or pass the index label (since we defined one):"
   ]
  },
  {
   "cell_type": "code",
   "execution_count": 9,
   "metadata": {},
   "outputs": [
    {
     "data": {
      "text/plain": [
       "360.0"
      ]
     },
     "execution_count": 9,
     "metadata": {},
     "output_type": "execute_result"
    }
   ],
   "source": [
    "data_frame['run1'][0]"
   ]
  },
  {
   "cell_type": "code",
   "execution_count": 10,
   "metadata": {},
   "outputs": [
    {
     "data": {
      "text/plain": [
       "360.0"
      ]
     },
     "execution_count": 10,
     "metadata": {},
     "output_type": "execute_result"
    }
   ],
   "source": [
    "data_frame['run1']['T']"
   ]
  },
  {
   "cell_type": "markdown",
   "metadata": {},
   "source": [
    "It is easy to write dataframes to CSV files (and read them).  "
   ]
  },
  {
   "cell_type": "code",
   "execution_count": 11,
   "metadata": {},
   "outputs": [],
   "source": [
    "data_frame.to_csv(r'test_data.csv', index=True)"
   ]
  },
  {
   "cell_type": "code",
   "execution_count": 12,
   "metadata": {},
   "outputs": [],
   "source": [
    "data_frame_from_csv = pd.read_csv('test_data.csv',index_col=0)"
   ]
  },
  {
   "cell_type": "code",
   "execution_count": 13,
   "metadata": {},
   "outputs": [
    {
     "data": {
      "text/html": [
       "<div>\n",
       "<style scoped>\n",
       "    .dataframe tbody tr th:only-of-type {\n",
       "        vertical-align: middle;\n",
       "    }\n",
       "\n",
       "    .dataframe tbody tr th {\n",
       "        vertical-align: top;\n",
       "    }\n",
       "\n",
       "    .dataframe thead th {\n",
       "        text-align: right;\n",
       "    }\n",
       "</style>\n",
       "<table border=\"1\" class=\"dataframe\">\n",
       "  <thead>\n",
       "    <tr style=\"text-align: right;\">\n",
       "      <th></th>\n",
       "      <th>run1</th>\n",
       "      <th>run2</th>\n",
       "    </tr>\n",
       "  </thead>\n",
       "  <tbody>\n",
       "    <tr>\n",
       "      <th>T</th>\n",
       "      <td>360.00</td>\n",
       "      <td>305.00</td>\n",
       "    </tr>\n",
       "    <tr>\n",
       "      <th>S2</th>\n",
       "      <td>0.91</td>\n",
       "      <td>0.98</td>\n",
       "    </tr>\n",
       "    <tr>\n",
       "      <th>angle</th>\n",
       "      <td>20.10</td>\n",
       "      <td>22.00</td>\n",
       "    </tr>\n",
       "  </tbody>\n",
       "</table>\n",
       "</div>"
      ],
      "text/plain": [
       "         run1    run2\n",
       "T      360.00  305.00\n",
       "S2       0.91    0.98\n",
       "angle   20.10   22.00"
      ]
     },
     "execution_count": 13,
     "metadata": {},
     "output_type": "execute_result"
    }
   ],
   "source": [
    "data_frame_from_csv"
   ]
  },
  {
   "cell_type": "markdown",
   "metadata": {},
   "source": [
    "Let's now read in some real data as a CSV file.  This is the number of positive and negative COVID-19 cases in the state of oregon per day from https://projects.oregonlive.com/coronavirus/"
   ]
  },
  {
   "cell_type": "code",
   "execution_count": 14,
   "metadata": {},
   "outputs": [],
   "source": [
    "oregon_data = pd.read_csv('data-1C2pE-8.csv')"
   ]
  },
  {
   "cell_type": "code",
   "execution_count": 107,
   "metadata": {},
   "outputs": [
    {
     "data": {
      "text/html": [
       "<div>\n",
       "<style scoped>\n",
       "    .dataframe tbody tr th:only-of-type {\n",
       "        vertical-align: middle;\n",
       "    }\n",
       "\n",
       "    .dataframe tbody tr th {\n",
       "        vertical-align: top;\n",
       "    }\n",
       "\n",
       "    .dataframe thead th {\n",
       "        text-align: right;\n",
       "    }\n",
       "</style>\n",
       "<table border=\"1\" class=\"dataframe\">\n",
       "  <thead>\n",
       "    <tr style=\"text-align: right;\">\n",
       "      <th></th>\n",
       "      <th>updated</th>\n",
       "      <th>positive</th>\n",
       "      <th>negative</th>\n",
       "    </tr>\n",
       "  </thead>\n",
       "  <tbody>\n",
       "    <tr>\n",
       "      <th>0</th>\n",
       "      <td>2020-02-29 00:00:00</td>\n",
       "      <td>1</td>\n",
       "      <td>3</td>\n",
       "    </tr>\n",
       "    <tr>\n",
       "      <th>1</th>\n",
       "      <td>2020-03-03 17:40:00</td>\n",
       "      <td>3</td>\n",
       "      <td>29</td>\n",
       "    </tr>\n",
       "    <tr>\n",
       "      <th>2</th>\n",
       "      <td>2020-03-04 17:25:00</td>\n",
       "      <td>3</td>\n",
       "      <td>45</td>\n",
       "    </tr>\n",
       "    <tr>\n",
       "      <th>3</th>\n",
       "      <td>2020-03-06 09:30:00</td>\n",
       "      <td>3</td>\n",
       "      <td>64</td>\n",
       "    </tr>\n",
       "    <tr>\n",
       "      <th>4</th>\n",
       "      <td>2020-03-07 10:00:00</td>\n",
       "      <td>7</td>\n",
       "      <td>77</td>\n",
       "    </tr>\n",
       "    <tr>\n",
       "      <th>5</th>\n",
       "      <td>2020-03-08 10:00:00</td>\n",
       "      <td>14</td>\n",
       "      <td>100</td>\n",
       "    </tr>\n",
       "    <tr>\n",
       "      <th>6</th>\n",
       "      <td>2020-03-09 10:00:00</td>\n",
       "      <td>14</td>\n",
       "      <td>165</td>\n",
       "    </tr>\n",
       "    <tr>\n",
       "      <th>7</th>\n",
       "      <td>2020-03-10 10:00:00</td>\n",
       "      <td>15</td>\n",
       "      <td>213</td>\n",
       "    </tr>\n",
       "    <tr>\n",
       "      <th>8</th>\n",
       "      <td>2020-03-11 10:00:00</td>\n",
       "      <td>21</td>\n",
       "      <td>286</td>\n",
       "    </tr>\n",
       "    <tr>\n",
       "      <th>9</th>\n",
       "      <td>2020-03-12 10:00:00</td>\n",
       "      <td>30</td>\n",
       "      <td>317</td>\n",
       "    </tr>\n",
       "    <tr>\n",
       "      <th>10</th>\n",
       "      <td>2020-03-13 10:00:00</td>\n",
       "      <td>32</td>\n",
       "      <td>337</td>\n",
       "    </tr>\n",
       "    <tr>\n",
       "      <th>11</th>\n",
       "      <td>2020-03-14 11:00:00</td>\n",
       "      <td>36</td>\n",
       "      <td>420</td>\n",
       "    </tr>\n",
       "    <tr>\n",
       "      <th>12</th>\n",
       "      <td>2020-03-15 12:00:00</td>\n",
       "      <td>39</td>\n",
       "      <td>579</td>\n",
       "    </tr>\n",
       "    <tr>\n",
       "      <th>13</th>\n",
       "      <td>2020-03-16 10:51:00</td>\n",
       "      <td>51</td>\n",
       "      <td>689</td>\n",
       "    </tr>\n",
       "    <tr>\n",
       "      <th>14</th>\n",
       "      <td>2020-03-17 09:00:00</td>\n",
       "      <td>68</td>\n",
       "      <td>968</td>\n",
       "    </tr>\n",
       "    <tr>\n",
       "      <th>15</th>\n",
       "      <td>2020-03-18 08:00:00</td>\n",
       "      <td>75</td>\n",
       "      <td>1118</td>\n",
       "    </tr>\n",
       "    <tr>\n",
       "      <th>16</th>\n",
       "      <td>2020-03-19 08:00:00</td>\n",
       "      <td>88</td>\n",
       "      <td>1329</td>\n",
       "    </tr>\n",
       "    <tr>\n",
       "      <th>17</th>\n",
       "      <td>2020-03-20 08:00:00</td>\n",
       "      <td>114</td>\n",
       "      <td>2003</td>\n",
       "    </tr>\n",
       "    <tr>\n",
       "      <th>18</th>\n",
       "      <td>2020-03-21 08:00:00</td>\n",
       "      <td>137</td>\n",
       "      <td>2338</td>\n",
       "    </tr>\n",
       "    <tr>\n",
       "      <th>19</th>\n",
       "      <td>2020-03-22 08:00:00</td>\n",
       "      <td>161</td>\n",
       "      <td>2864</td>\n",
       "    </tr>\n",
       "    <tr>\n",
       "      <th>20</th>\n",
       "      <td>2020-03-23 08:00:00</td>\n",
       "      <td>191</td>\n",
       "      <td>3649</td>\n",
       "    </tr>\n",
       "    <tr>\n",
       "      <th>21</th>\n",
       "      <td>2020-03-24 08:00:00</td>\n",
       "      <td>209</td>\n",
       "      <td>4350</td>\n",
       "    </tr>\n",
       "    <tr>\n",
       "      <th>22</th>\n",
       "      <td>2020-03-25 09:00:00</td>\n",
       "      <td>266</td>\n",
       "      <td>5476</td>\n",
       "    </tr>\n",
       "    <tr>\n",
       "      <th>23</th>\n",
       "      <td>2020-03-26 08:00:00</td>\n",
       "      <td>317</td>\n",
       "      <td>6953</td>\n",
       "    </tr>\n",
       "    <tr>\n",
       "      <th>24</th>\n",
       "      <td>2020-03-27 09:30:00</td>\n",
       "      <td>414</td>\n",
       "      <td>8510</td>\n",
       "    </tr>\n",
       "    <tr>\n",
       "      <th>25</th>\n",
       "      <td>2020-03-28 09:30:00</td>\n",
       "      <td>479</td>\n",
       "      <td>9693</td>\n",
       "    </tr>\n",
       "    <tr>\n",
       "      <th>26</th>\n",
       "      <td>2020-03-29 08:00:00</td>\n",
       "      <td>548</td>\n",
       "      <td>10878</td>\n",
       "    </tr>\n",
       "    <tr>\n",
       "      <th>27</th>\n",
       "      <td>2020-03-30 08:00:00</td>\n",
       "      <td>606</td>\n",
       "      <td>12277</td>\n",
       "    </tr>\n",
       "    <tr>\n",
       "      <th>28</th>\n",
       "      <td>2020-03-31 08:00:00</td>\n",
       "      <td>690</td>\n",
       "      <td>13136</td>\n",
       "    </tr>\n",
       "    <tr>\n",
       "      <th>29</th>\n",
       "      <td>2020-04-01 08:00:00</td>\n",
       "      <td>736</td>\n",
       "      <td>14132</td>\n",
       "    </tr>\n",
       "    <tr>\n",
       "      <th>30</th>\n",
       "      <td>2020-04-02 08:00:00</td>\n",
       "      <td>826</td>\n",
       "      <td>15259</td>\n",
       "    </tr>\n",
       "    <tr>\n",
       "      <th>31</th>\n",
       "      <td>2020-04-03 08:00:00</td>\n",
       "      <td>899</td>\n",
       "      <td>16535</td>\n",
       "    </tr>\n",
       "    <tr>\n",
       "      <th>32</th>\n",
       "      <td>2020-04-04 08:00:00</td>\n",
       "      <td>999</td>\n",
       "      <td>17926</td>\n",
       "    </tr>\n",
       "    <tr>\n",
       "      <th>33</th>\n",
       "      <td>2020-04-05 08:00:00</td>\n",
       "      <td>1068</td>\n",
       "      <td>19556</td>\n",
       "    </tr>\n",
       "    <tr>\n",
       "      <th>34</th>\n",
       "      <td>2020-04-06 08:00:00</td>\n",
       "      <td>1132</td>\n",
       "      <td>20669</td>\n",
       "    </tr>\n",
       "    <tr>\n",
       "      <th>35</th>\n",
       "      <td>2020-04-07 08:00:00</td>\n",
       "      <td>1181</td>\n",
       "      <td>21826</td>\n",
       "    </tr>\n",
       "    <tr>\n",
       "      <th>36</th>\n",
       "      <td>2020-04-08 08:00:00</td>\n",
       "      <td>1239</td>\n",
       "      <td>23325</td>\n",
       "    </tr>\n",
       "    <tr>\n",
       "      <th>37</th>\n",
       "      <td>2020-04-09 08:00:00</td>\n",
       "      <td>1321</td>\n",
       "      <td>24306</td>\n",
       "    </tr>\n",
       "    <tr>\n",
       "      <th>38</th>\n",
       "      <td>2020-04-10 08:00:00</td>\n",
       "      <td>1371</td>\n",
       "      <td>25853</td>\n",
       "    </tr>\n",
       "    <tr>\n",
       "      <th>39</th>\n",
       "      <td>2020-04-11 08:00:00</td>\n",
       "      <td>1447</td>\n",
       "      <td>27191</td>\n",
       "    </tr>\n",
       "    <tr>\n",
       "      <th>40</th>\n",
       "      <td>2020-04-12 08:00:00</td>\n",
       "      <td>1527</td>\n",
       "      <td>28231</td>\n",
       "    </tr>\n",
       "    <tr>\n",
       "      <th>41</th>\n",
       "      <td>2020-04-13 08:00:00</td>\n",
       "      <td>1584</td>\n",
       "      <td>29537</td>\n",
       "    </tr>\n",
       "    <tr>\n",
       "      <th>42</th>\n",
       "      <td>2020-04-14 08:00:00</td>\n",
       "      <td>1633</td>\n",
       "      <td>30730</td>\n",
       "    </tr>\n",
       "    <tr>\n",
       "      <th>43</th>\n",
       "      <td>2020-04-15 08:00:00</td>\n",
       "      <td>1663</td>\n",
       "      <td>31688</td>\n",
       "    </tr>\n",
       "    <tr>\n",
       "      <th>44</th>\n",
       "      <td>2020-04-16 08:00:00</td>\n",
       "      <td>1736</td>\n",
       "      <td>33202</td>\n",
       "    </tr>\n",
       "    <tr>\n",
       "      <th>45</th>\n",
       "      <td>2020-04-17 08:00:00</td>\n",
       "      <td>1785</td>\n",
       "      <td>34536</td>\n",
       "    </tr>\n",
       "    <tr>\n",
       "      <th>46</th>\n",
       "      <td>2020-04-18 08:00:00</td>\n",
       "      <td>1844</td>\n",
       "      <td>35739</td>\n",
       "    </tr>\n",
       "    <tr>\n",
       "      <th>47</th>\n",
       "      <td>2020-04-19 08:00:00</td>\n",
       "      <td>1910</td>\n",
       "      <td>37128</td>\n",
       "    </tr>\n",
       "    <tr>\n",
       "      <th>48</th>\n",
       "      <td>2020-04-20 08:00:00</td>\n",
       "      <td>1956</td>\n",
       "      <td>38089</td>\n",
       "    </tr>\n",
       "    <tr>\n",
       "      <th>49</th>\n",
       "      <td>2020-04-21 08:00:00</td>\n",
       "      <td>2002</td>\n",
       "      <td>39126</td>\n",
       "    </tr>\n",
       "    <tr>\n",
       "      <th>50</th>\n",
       "      <td>2020-04-22 08:00:00</td>\n",
       "      <td>2059</td>\n",
       "      <td>40488</td>\n",
       "    </tr>\n",
       "    <tr>\n",
       "      <th>51</th>\n",
       "      <td>2020-04-23 08:00:00</td>\n",
       "      <td>2127</td>\n",
       "      <td>41849</td>\n",
       "    </tr>\n",
       "  </tbody>\n",
       "</table>\n",
       "</div>"
      ],
      "text/plain": [
       "                updated  positive  negative\n",
       "0   2020-02-29 00:00:00         1         3\n",
       "1   2020-03-03 17:40:00         3        29\n",
       "2   2020-03-04 17:25:00         3        45\n",
       "3   2020-03-06 09:30:00         3        64\n",
       "4   2020-03-07 10:00:00         7        77\n",
       "5   2020-03-08 10:00:00        14       100\n",
       "6   2020-03-09 10:00:00        14       165\n",
       "7   2020-03-10 10:00:00        15       213\n",
       "8   2020-03-11 10:00:00        21       286\n",
       "9   2020-03-12 10:00:00        30       317\n",
       "10  2020-03-13 10:00:00        32       337\n",
       "11  2020-03-14 11:00:00        36       420\n",
       "12  2020-03-15 12:00:00        39       579\n",
       "13  2020-03-16 10:51:00        51       689\n",
       "14  2020-03-17 09:00:00        68       968\n",
       "15  2020-03-18 08:00:00        75      1118\n",
       "16  2020-03-19 08:00:00        88      1329\n",
       "17  2020-03-20 08:00:00       114      2003\n",
       "18  2020-03-21 08:00:00       137      2338\n",
       "19  2020-03-22 08:00:00       161      2864\n",
       "20  2020-03-23 08:00:00       191      3649\n",
       "21  2020-03-24 08:00:00       209      4350\n",
       "22  2020-03-25 09:00:00       266      5476\n",
       "23  2020-03-26 08:00:00       317      6953\n",
       "24  2020-03-27 09:30:00       414      8510\n",
       "25  2020-03-28 09:30:00       479      9693\n",
       "26  2020-03-29 08:00:00       548     10878\n",
       "27  2020-03-30 08:00:00       606     12277\n",
       "28  2020-03-31 08:00:00       690     13136\n",
       "29  2020-04-01 08:00:00       736     14132\n",
       "30  2020-04-02 08:00:00       826     15259\n",
       "31  2020-04-03 08:00:00       899     16535\n",
       "32  2020-04-04 08:00:00       999     17926\n",
       "33  2020-04-05 08:00:00      1068     19556\n",
       "34  2020-04-06 08:00:00      1132     20669\n",
       "35  2020-04-07 08:00:00      1181     21826\n",
       "36  2020-04-08 08:00:00      1239     23325\n",
       "37  2020-04-09 08:00:00      1321     24306\n",
       "38  2020-04-10 08:00:00      1371     25853\n",
       "39  2020-04-11 08:00:00      1447     27191\n",
       "40  2020-04-12 08:00:00      1527     28231\n",
       "41  2020-04-13 08:00:00      1584     29537\n",
       "42  2020-04-14 08:00:00      1633     30730\n",
       "43  2020-04-15 08:00:00      1663     31688\n",
       "44  2020-04-16 08:00:00      1736     33202\n",
       "45  2020-04-17 08:00:00      1785     34536\n",
       "46  2020-04-18 08:00:00      1844     35739\n",
       "47  2020-04-19 08:00:00      1910     37128\n",
       "48  2020-04-20 08:00:00      1956     38089\n",
       "49  2020-04-21 08:00:00      2002     39126\n",
       "50  2020-04-22 08:00:00      2059     40488\n",
       "51  2020-04-23 08:00:00      2127     41849"
      ]
     },
     "execution_count": 107,
     "metadata": {},
     "output_type": "execute_result"
    }
   ],
   "source": [
    "oregon_data"
   ]
  },
  {
   "cell_type": "markdown",
   "metadata": {},
   "source": [
    "You can see by the way this has been imported, the dictionary keys are 'updated', 'positive', and 'negative', so we can use these to extract out specific information.  For example, let's plot  'updated' and 'positive'"
   ]
  },
  {
   "cell_type": "code",
   "execution_count": 16,
   "metadata": {},
   "outputs": [
    {
     "data": {
      "text/plain": [
       "[<matplotlib.lines.Line2D at 0x10629f240>]"
      ]
     },
     "execution_count": 16,
     "metadata": {},
     "output_type": "execute_result"
    },
    {
     "data": {
      "image/png": "[encoded data removed]",
      "text/plain": [
       "<Figure size 432x288 with 1 Axes>"
      ]
     },
     "metadata": {
      "needs_background": "light"
     },
     "output_type": "display_data"
    }
   ],
   "source": [
    "plt.plot(oregon_data['updated'], oregon_data['positive'])\n"
   ]
  },
  {
   "cell_type": "markdown",
   "metadata": {},
   "source": [
    "It's rather difficult to read that x-axis, let's do some quick formatting. "
   ]
  },
  {
   "cell_type": "code",
   "execution_count": 117,
   "metadata": {},
   "outputs": [
    {
     "data": {
      "image/png": "[encoded data removed]",
      "text/plain": [
       "<Figure size 432x288 with 1 Axes>"
      ]
     },
     "metadata": {
      "needs_background": "light"
     },
     "output_type": "display_data"
    }
   ],
   "source": [
    "#first let's make a copy of the data that gives the date/time of update\n",
    "formatted_date =oregon_data['updated'][:].copy()\n",
    "#next, let's only keep the date, discarding the time, this is just the first\n",
    "#10 characters of the string\n",
    "formatted_date = [date.replace(date[10:], '') for date in formatted_date]\n",
    "\n",
    "fig, ax = plt.subplots()\n",
    "\n",
    "#to be able to read the labels, we'll use a built-in function to tilt them\n",
    "fig.autofmt_xdate()\n",
    "\n",
    "# and then define the number of tick markers to show a more manageable set\n",
    "ax.xaxis.set_major_locator(plt.MaxNLocator(10))\n",
    "\n",
    "ax.plot(formatted_date, oregon_data['positive'])\n",
    "\n",
    "plt.ylabel('number of positive cases')\n",
    "\n",
    "#change to a log scale\n",
    "plt.yscale(\"log\")"
   ]
  },
  {
   "cell_type": "markdown",
   "metadata": {},
   "source": [
    "It's rather easy to just restrict the data range we plot, e.g., let's just pick out data from the \"middle\" where the number of cases was most rapidly growing (the start of this window roughly corresponds  with the start of social distancing and closing schools)."
   ]
  },
  {
   "cell_type": "code",
   "execution_count": 118,
   "metadata": {},
   "outputs": [
    {
     "data": {
      "image/png": "[encoded data removed]",
      "text/plain": [
       "<Figure size 432x288 with 1 Axes>"
      ]
     },
     "metadata": {
      "needs_background": "light"
     },
     "output_type": "display_data"
    }
   ],
   "source": [
    "fig, ax = plt.subplots()\n",
    "\n",
    "#to be able to read the labels, we'll use a built in function to tilt them\n",
    "fig.autofmt_xdate()\n",
    "# and then define the number of tick markers to show\n",
    "ax.xaxis.set_major_locator(plt.MaxNLocator(10))\n",
    "\n",
    "ax.plot(formatted_date[8:21], oregon_data['positive'][8:21])\n",
    "plt.ylabel('number of positive cases')\n",
    "\n",
    "#change to a log scale\n",
    "plt.yscale(\"log\")"
   ]
  },
  {
   "cell_type": "markdown",
   "metadata": {},
   "source": [
    "Let us  use the scipy optimize routine to fit this region, so we can see the effect of social distancing and such."
   ]
  },
  {
   "cell_type": "code",
   "execution_count": 22,
   "metadata": {},
   "outputs": [],
   "source": [
    "def func(x, a, b, c):\n",
    "    return a * np.exp(-b * x) + c"
   ]
  },
  {
   "cell_type": "code",
   "execution_count": 119,
   "metadata": {},
   "outputs": [],
   "source": [
    "# Create an array of 'N' points from 0 to 1 corresponding to the number of entires\n",
    "# This is necessary since the x-axis is dates rather than floats\n",
    "# I'll note, this data file is missing data for Feb 1 and 2.\n",
    "# We could go back and fix this, but since we won't actually be fitting\n",
    "# these points, it's reasonable to ignore them.\n",
    "\n",
    "xdata = np.linspace(0, 1, len(oregon_data))\n",
    "\n",
    "#fit the curve, but limit to that middle data above\n",
    "popt, pcov = curve_fit(func, xdata[8:21], oregon_data['positive'][8:21])"
   ]
  },
  {
   "cell_type": "markdown",
   "metadata": {},
   "source": [
    "Curve fit doesn't give you an R-squared value by default, so we just need to do a few quick calculations."
   ]
  },
  {
   "cell_type": "code",
   "execution_count": 129,
   "metadata": {},
   "outputs": [
    {
     "name": "stdout",
     "output_type": "stream",
     "text": [
      "0.9967239004550427\n"
     ]
    }
   ],
   "source": [
    "residuals = oregon_data['positive'][8:21]- func(xdata[8:21], *popt)\n",
    "#calculate residual sum of squares\n",
    "ss_res = np.sum(residuals**2)\n",
    "#get the total sum of squares\n",
    "ss_tot = np.sum((oregon_data['positive'][8:21]-np.mean(oregon_data['positive'][8:21]))**2)\n",
    "#get the r-squared value\n",
    "r_squared = 1 - (ss_res / ss_tot)\n",
    "print(r_squared)"
   ]
  },
  {
   "cell_type": "code",
   "execution_count": 130,
   "metadata": {},
   "outputs": [
    {
     "data": {
      "image/png": "[encoded data removed]",
      "text/plain": [
       "<Figure size 432x288 with 1 Axes>"
      ]
     },
     "metadata": {
      "needs_background": "light"
     },
     "output_type": "display_data"
    }
   ],
   "source": [
    "fig, ax = plt.subplots()\n",
    "\n",
    "#to be able to read the labels, we'll use a built-in function to tilt them\n",
    "fig.autofmt_xdate()\n",
    "# and then define the number of tick markers to show\n",
    "ax.xaxis.set_major_locator(plt.MaxNLocator(10))\n",
    "\n",
    "#plot all of the data\n",
    "ax.plot(formatted_date, oregon_data['positive'], marker='o', ls='')\n",
    "\n",
    "#plot of the fit of the middle region\n",
    "#to plot the fit, we'll just pass the function we have our x_data points and the fitted a,b,c values\n",
    "# that are saved in the popt area\n",
    "ax.plot(formatted_date,  func(xdata, *popt), 'r--')\n",
    "\n",
    "\n",
    "plt.ylabel('number of positive cases')\n",
    "\n",
    "#change to a log scale\n",
    "plt.yscale(\"log\")"
   ]
  },
  {
   "cell_type": "code",
   "execution_count": 131,
   "metadata": {},
   "outputs": [
    {
     "data": {
      "text/plain": [
       "Text(0, 0.5, 'actual/predicted postitve cases')"
      ]
     },
     "execution_count": 131,
     "metadata": {},
     "output_type": "execute_result"
    },
    {
     "data": {
      "image/png": "[encoded data removed]",
      "text/plain": [
       "<Figure size 432x288 with 1 Axes>"
      ]
     },
     "metadata": {
      "needs_background": "light"
     },
     "output_type": "display_data"
    }
   ],
   "source": [
    "fig, ax = plt.subplots()\n",
    "fig.autofmt_xdate()\n",
    "# and then define the number of tick markers to show\n",
    "ax.xaxis.set_major_locator(plt.MaxNLocator(10))\n",
    "\n",
    "#plot all of the data\n",
    "ax.plot(formatted_date[8:],  oregon_data['positive'][8:]/func(xdata[8:], *popt), 'o', ls='--')\n",
    "\n",
    "plt.ylabel('actual/predicted postitve cases')"
   ]
  },
  {
   "cell_type": "markdown",
   "metadata": {},
   "source": [
    "Stepping back to where we started, the dictionaries allow us to easily manage our data space and keep track of lots of different pieces of information that can be easily iterated over.\n",
    "\n",
    "Let's create some totally fictuious data for T and PE for two different runs (data that most likely would be read in from a simulation energy file or the result of analysis by a code and wouldn't be defined by hand).  We will then make a dataframe for each run and then put these in a dictionary.   "
   ]
  },
  {
   "cell_type": "code",
   "execution_count": 132,
   "metadata": {},
   "outputs": [],
   "source": [
    "run1_data = { \n",
    "\t'T': [300, 305, 310, 315, 310, 315, 320, 325, 320, 315, 310, 315],\n",
    "\t'PE': [1489, 1523, 1649, 1554, 1634, 1780, 1900, 1843, 1724, 1652, 1400, 1323]\n",
    "}\n",
    "\n",
    "run2_data = { \n",
    "\t'T': [300, 305, 305, 310, 315, 320, 325, 320, 325, 320, 315, 320],\n",
    "\t'PE': [1482, 1512, 1432, 1623, 1723, 1849, 1948, 2200, 2129, 2003, 1802, 1938]\n",
    "}\n",
    "\n",
    "r1_pd = pd.DataFrame(run1_data)\n",
    "r2_pd = pd.DataFrame(run2_data)\n",
    "\n",
    "\n",
    "sim_data_dict = {'run1': r1_pd,  'run2': r2_pd}\n"
   ]
  },
  {
   "cell_type": "markdown",
   "metadata": {},
   "source": [
    "By using a dictionary we can again, hone in on specific pieces of information, like e.g., only run2"
   ]
  },
  {
   "cell_type": "code",
   "execution_count": 133,
   "metadata": {},
   "outputs": [
    {
     "data": {
      "text/html": [
       "<div>\n",
       "<style scoped>\n",
       "    .dataframe tbody tr th:only-of-type {\n",
       "        vertical-align: middle;\n",
       "    }\n",
       "\n",
       "    .dataframe tbody tr th {\n",
       "        vertical-align: top;\n",
       "    }\n",
       "\n",
       "    .dataframe thead th {\n",
       "        text-align: right;\n",
       "    }\n",
       "</style>\n",
       "<table border=\"1\" class=\"dataframe\">\n",
       "  <thead>\n",
       "    <tr style=\"text-align: right;\">\n",
       "      <th></th>\n",
       "      <th>T</th>\n",
       "      <th>PE</th>\n",
       "    </tr>\n",
       "  </thead>\n",
       "  <tbody>\n",
       "    <tr>\n",
       "      <th>0</th>\n",
       "      <td>300</td>\n",
       "      <td>1482</td>\n",
       "    </tr>\n",
       "    <tr>\n",
       "      <th>1</th>\n",
       "      <td>305</td>\n",
       "      <td>1512</td>\n",
       "    </tr>\n",
       "    <tr>\n",
       "      <th>2</th>\n",
       "      <td>305</td>\n",
       "      <td>1432</td>\n",
       "    </tr>\n",
       "    <tr>\n",
       "      <th>3</th>\n",
       "      <td>310</td>\n",
       "      <td>1623</td>\n",
       "    </tr>\n",
       "    <tr>\n",
       "      <th>4</th>\n",
       "      <td>315</td>\n",
       "      <td>1723</td>\n",
       "    </tr>\n",
       "    <tr>\n",
       "      <th>5</th>\n",
       "      <td>320</td>\n",
       "      <td>1849</td>\n",
       "    </tr>\n",
       "    <tr>\n",
       "      <th>6</th>\n",
       "      <td>325</td>\n",
       "      <td>1948</td>\n",
       "    </tr>\n",
       "    <tr>\n",
       "      <th>7</th>\n",
       "      <td>320</td>\n",
       "      <td>2200</td>\n",
       "    </tr>\n",
       "    <tr>\n",
       "      <th>8</th>\n",
       "      <td>325</td>\n",
       "      <td>2129</td>\n",
       "    </tr>\n",
       "    <tr>\n",
       "      <th>9</th>\n",
       "      <td>320</td>\n",
       "      <td>2003</td>\n",
       "    </tr>\n",
       "    <tr>\n",
       "      <th>10</th>\n",
       "      <td>315</td>\n",
       "      <td>1802</td>\n",
       "    </tr>\n",
       "    <tr>\n",
       "      <th>11</th>\n",
       "      <td>320</td>\n",
       "      <td>1938</td>\n",
       "    </tr>\n",
       "  </tbody>\n",
       "</table>\n",
       "</div>"
      ],
      "text/plain": [
       "      T    PE\n",
       "0   300  1482\n",
       "1   305  1512\n",
       "2   305  1432\n",
       "3   310  1623\n",
       "4   315  1723\n",
       "5   320  1849\n",
       "6   325  1948\n",
       "7   320  2200\n",
       "8   325  2129\n",
       "9   320  2003\n",
       "10  315  1802\n",
       "11  320  1938"
      ]
     },
     "execution_count": 133,
     "metadata": {},
     "output_type": "execute_result"
    }
   ],
   "source": [
    "sim_data_dict['run2']"
   ]
  },
  {
   "cell_type": "code",
   "execution_count": 134,
   "metadata": {},
   "outputs": [
    {
     "data": {
      "text/plain": [
       "<matplotlib.legend.Legend at 0x11b580ba8>"
      ]
     },
     "execution_count": 134,
     "metadata": {},
     "output_type": "execute_result"
    },
    {
     "data": {
      "image/png": "[encoded data removed]",
      "text/plain": [
       "<Figure size 432x288 with 1 Axes>"
      ]
     },
     "metadata": {
      "needs_background": "light"
     },
     "output_type": "display_data"
    }
   ],
   "source": [
    "for sim in sim_data_dict:\n",
    "    plt.plot(sim_data_dict[sim]['T'], label=sim)\n",
    "plt.legend()"
   ]
  },
  {
   "cell_type": "markdown",
   "metadata": {},
   "source": [
    "This is of course not the only way to define a dataspace.  This just happens to be a way I personally like.  \n",
    "\n",
    "E.g., instead of having a dictionary be the top level container, we could put the run1_data and run2_data dictionaries into a dictionary, then convert that to a pandas dataframe. "
   ]
  },
  {
   "cell_type": "code",
   "execution_count": 74,
   "metadata": {},
   "outputs": [],
   "source": [
    "sim_data_dict2 = {'run1': run1_data,  'run2': run2_data}\n",
    "\n",
    "sim_df = pd.DataFrame(sim_data_dict2)"
   ]
  },
  {
   "cell_type": "code",
   "execution_count": 135,
   "metadata": {},
   "outputs": [
    {
     "data": {
      "image/png": "[encoded data removed]",
      "text/plain": [
       "<Figure size 432x288 with 1 Axes>"
      ]
     },
     "metadata": {
      "needs_background": "light"
     },
     "output_type": "display_data"
    }
   ],
   "source": [
    "for sim in sim_df:\n",
    "    plt.plot(sim_df[sim]['T'], label=sim)\n",
    "    plt.legend()\n",
    "    "
   ]
  },
  {
   "cell_type": "markdown",
   "metadata": {},
   "source": [
    "There are some built in functions that make things easy to get information quickly out."
   ]
  },
  {
   "cell_type": "code",
   "execution_count": 160,
   "metadata": {},
   "outputs": [
    {
     "name": "stdout",
     "output_type": "stream",
     "text": [
      "313.3333333333333 +/- 6.853444168423418\n"
     ]
    }
   ],
   "source": [
    "print(sim_data_dict['run1']['T'].mean(), '+/-', sim_data_dict['run1']['T'].std())"
   ]
  },
  {
   "cell_type": "markdown",
   "metadata": {},
   "source": [
    "We can easily export to a numpy array as well.  A quick note, pandas uses the Bessel's correction in the standard deviation formulat. That is N-1, rather than N.  So this will give a slightly different value than numpy.std(). "
   ]
  },
  {
   "cell_type": "code",
   "execution_count": 165,
   "metadata": {},
   "outputs": [
    {
     "name": "stdout",
     "output_type": "stream",
     "text": [
      "[300 305 310 315 310 315 320 325 320 315 310 315]\n"
     ]
    }
   ],
   "source": [
    "T_array = sim_data_dict['run1']['T'].to_numpy()\n",
    "print(T_array)"
   ]
  },
  {
   "cell_type": "code",
   "execution_count": 166,
   "metadata": {},
   "outputs": [
    {
     "name": "stdout",
     "output_type": "stream",
     "text": [
      "313.3333333333333 +/- 6.5616732283431745\n"
     ]
    }
   ],
   "source": [
    "print(T_array.mean(), '+/-', T_array.std())"
   ]
  },
  {
   "cell_type": "code",
   "execution_count": null,
   "metadata": {},
   "outputs": [],
   "source": []
  }
 ],
 "metadata": {
  "kernelspec": {
   "display_name": "Python 3",
   "language": "python",
   "name": "python3"
  },
  "language_info": {
   "codemirror_mode": {
    "name": "ipython",
    "version": 3
   },
   "file_extension": ".py",
   "mimetype": "text/x-python",
   "name": "python",
   "nbconvert_exporter": "python",
   "pygments_lexer": "ipython3",
   "version": "3.6.7"
  }
 },
 "nbformat": 4,
 "nbformat_minor": 4
}
